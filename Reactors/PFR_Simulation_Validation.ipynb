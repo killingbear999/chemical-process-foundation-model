{
 "cells": [
  {
   "cell_type": "code",
   "execution_count": 1,
   "id": "8fff27eb",
   "metadata": {},
   "outputs": [
    {
     "name": "stderr",
     "output_type": "stream",
     "text": [
      "/usr/local/lib/python3.10/site-packages/tqdm/auto.py:21: TqdmWarning: IProgress not found. Please update jupyter and ipywidgets. See https://ipywidgets.readthedocs.io/en/stable/user_install.html\n",
      "  from .autonotebook import tqdm as notebook_tqdm\n"
     ]
    }
   ],
   "source": [
    "import numpy as np\n",
    "import matplotlib.pyplot as plt\n",
    "from scipy.integrate import solve_ivp\n",
    "import torch\n",
    "import torch.nn as nn\n",
    "from sklearn.model_selection import train_test_split\n",
    "from torch.utils.data import DataLoader, TensorDataset\n",
    "import math\n",
    "import optuna\n",
    "from scipy.integrate import odeint"
   ]
  },
  {
   "cell_type": "code",
   "execution_count": 9,
   "id": "7eba1b0a",
   "metadata": {},
   "outputs": [],
   "source": [
    "# Specifying parameters for PFR and other constants taken Siettos et al.'s work (1998)\n",
    "\n",
    "T0_s = 440 #440 # inlet temperature\n",
    "\n",
    "k_0 = 3.34 * (np.power(10,8)) # pre-exponential constant\n",
    "\n",
    "C_p = 25 # heat capacity of reacting liquid\n",
    "\n",
    "rho_L = 47 # density of reacting liquid\n",
    "\n",
    "T_s = 423 # steady-state reactor temperature                \n",
    "\n",
    "u = 2 # volumetric flow rate  (F/A) Superficial velocity\n",
    "\n",
    "E_by_R = 8600 # activation energy (E/R)\n",
    "\n",
    "delH_term = -44000 # enthalpy of reaction\n",
    "\n",
    "U = 25 #Overall heat transfer coeffecient\n",
    "\n",
    "CA0_s = 1.6 #  steady-state inlet concentration of A\n",
    "\n",
    "CA_s = 0.11 # steady-state reactor concentration of A         \n",
    "\n",
    "Tc_s = 293 # steady state cooling temperature\n",
    "\n",
    "At = 0.01 # Area for heating rate equation\n",
    "\n",
    "A = 0.002  # Area\n",
    "\n",
    "t_final = 0.05 #0.01 # end time for numerical simulation\n",
    "\n",
    "t_step = 0.01 #1e-3 # integration time step h_c\n",
    "\n",
    "P = np.array([[1060, 22], [22, 0.52]]) # a positive definite matrix             \n",
    "\n",
    "length = 1 # total length of reactor\n",
    "\n",
    "N = 10     # number of points to discretize the reactor"
   ]
  },
  {
   "cell_type": "markdown",
   "id": "73f3421f",
   "metadata": {},
   "source": [
    "# Euler Method"
   ]
  },
  {
   "cell_type": "code",
   "execution_count": 16,
   "id": "dadb2db6",
   "metadata": {},
   "outputs": [],
   "source": [
    "def PFR_simulation_Euler(u, delH_term, k_0, C_p, rho_L, E_by_R, Tc, U, At, A, t_final, t_step, init_C, init_T):\n",
    "\n",
    "    # Method of lines approximates the spatial derivative using finite difference method which reults in a set of coupled ODE\n",
    "    \n",
    "    def method_of_lines_C(C, T):\n",
    "        'coupled ODES at each node point'\n",
    "        D = -u * np.diff(C) / np.diff(z) - k_0 * np.exp(-E_by_R/T[1:]) * C[1:]    # for first order\n",
    "        return np.concatenate([[0], D]) #C0 is constant at entrance\n",
    "\n",
    "\n",
    "    def method_of_lines_T(C, T):\n",
    "        'coupled ODES at each node point'\n",
    "        D = -u * np.diff(T) / np.diff(z) + (-delH_term/(rho_L*C_p)) * k_0 * np.exp(-E_by_R/T[1:])* C[1:] + (U/(rho_L*C_p*A)) * At * (Tc - T[1:]) # for first order\n",
    "        return np.concatenate([[0], D]) #T0 is constant at entrance\n",
    "\n",
    "    N = 11     # number of points to discretize the reactor length\n",
    "    z = np.linspace(0, length, N) # discretized length elements\n",
    "    \n",
    "    #initializing arrays\n",
    "    init_C_A_2_1 = np.zeros(N)\n",
    "    init_T_2_1 = np.zeros(N)  \n",
    "    \n",
    "    init_C_A_2_2 = np.zeros(N)\n",
    "    init_T_2_2 = np.zeros(N)   \n",
    "    \n",
    "    init_C_A_3 = np.zeros(N)\n",
    "    init_T_3 = np.zeros(N)    \n",
    "    \n",
    "    C_A_3 = np.zeros(N)\n",
    "    T_3 = np.zeros(N)    \n",
    "    \n",
    "    \n",
    "    dCAdt1 = method_of_lines_C(init_C, init_T)\n",
    "    dTdt1 = method_of_lines_T(init_C, init_T)\n",
    "    \n",
    "    for i in range(len(init_C)):        \n",
    "        init_C_A_2_1[i] = init_C[i] + dCAdt1[i] * t_step / 2\n",
    "        init_T_2_1[i] = init_T[i] + dTdt1[i] * t_step / 2\n",
    "        \n",
    "    dCAdt2_1 = method_of_lines_C(init_C_A_2_1, init_T_2_1)\n",
    "    dTdt2_1 = method_of_lines_T(init_C_A_2_1, init_T_2_1)        \n",
    "        \n",
    "    for i in range(len(init_C)):\n",
    "        init_C_A_2_2[i] = init_C[i] + dCAdt2_1[i] * t_step / 2\n",
    "        init_T_2_2[i] = init_T[i] + dTdt2_1[i] * t_step / 2\n",
    "        \n",
    "    dCAdt2_2 = method_of_lines_C(init_C_A_2_2, init_T_2_2)\n",
    "    dTdt2_2 = method_of_lines_T(init_C_A_2_2, init_T_2_2)           \n",
    "        \n",
    "    for i in range(len(init_C)):       \n",
    "        init_C_A_3[i] = init_C[i] + dCAdt2_2[i] * t_step / 2\n",
    "        init_T_3[i] = init_T[i] + dTdt2_2[i] * t_step / 2\n",
    "        \n",
    "    dCAdt3 = method_of_lines_C(init_C_A_3, init_T_3)\n",
    "    dTdt3 = method_of_lines_T(init_C_A_3, init_T_3)           \n",
    "        \n",
    "    dCAdt2 = np.add(dCAdt2_1,dCAdt2_2)\n",
    "    dCAdt2 = np.divide(dCAdt2,2)\n",
    "      \n",
    "    dTdt2 = np.add(dTdt2_1,dTdt2_2)\n",
    "    dTdt2 = np.divide(dTdt2,2)        \n",
    "\n",
    "    for i in range(len(init_C)):      \n",
    "        C_A_3[i] = init_C[i] + t_step / 6 * (dCAdt1[i] + 4*dCAdt2[i] + dCAdt3[i])     \n",
    "        T_3[i] = init_T[i] + t_step / 6 * (dTdt1[i] + 4*dTdt2[i] + dTdt3[i])    \n",
    "\n",
    "    return C_A_3 , T_3  "
   ]
  },
  {
   "cell_type": "markdown",
   "id": "aae6b466",
   "metadata": {},
   "source": [
    "# Data generation (PI-RNN) collocation points"
   ]
  },
  {
   "cell_type": "code",
   "execution_count": 4,
   "id": "b7394ac3",
   "metadata": {},
   "outputs": [],
   "source": [
    "# generating inputs and initial states for PFR\n",
    "\n",
    "u2_physics_list = np.linspace(100, 300, 20) # u2 is the cooling temp\n",
    "T_physics_initial = np.linspace(300, 500, 20)  # inlet temperature\n",
    "CA_physics_initial = np.linspace(0.5, 3, 20)  # inlet concentration"
   ]
  },
  {
   "cell_type": "code",
   "execution_count": 5,
   "id": "be5a1514",
   "metadata": {},
   "outputs": [
    {
     "name": "stdout",
     "output_type": "stream",
     "text": [
      "number of initial conditions: 400\n",
      "shape of x_physics_original is (400, 2)\n"
     ]
    }
   ],
   "source": [
    "# Grouping the initial state vectors\n",
    "\n",
    "T_physics_start = list()\n",
    "CA_physics_start = list()\n",
    "\n",
    "for T in T_physics_initial:\n",
    "    for CA in CA_physics_initial:\n",
    "        CA_physics_start.append(CA)\n",
    "        T_physics_start.append(T)\n",
    "            \n",
    "print(\"number of initial conditions: {}\".format(len(CA_physics_start)))\n",
    "\n",
    "# convert to np.arrays\n",
    "CA_physics_start = np.array([CA_physics_start])\n",
    "T_physics_start = np.array([T_physics_start])\n",
    "x_physics_original = np.concatenate((CA_physics_start.T, T_physics_start.T), axis=1)  # every row is a pair of initial states within stability region\n",
    "print(\"shape of x_physics_original is {}\".format(x_physics_original.shape))"
   ]
  },
  {
   "cell_type": "code",
   "execution_count": 6,
   "id": "1cbc0bbc",
   "metadata": {},
   "outputs": [],
   "source": [
    "# Steady state values of concnetration and temperature for this system is as given below\n",
    "\n",
    "CA_ss = [1.6, 1.5111947036559625, 1.417387640197116, 1.3184219134355777, 1.2143091606184162, 1.105331317367263, 0.9921731706476451, 0.8760742913774546, 0.7589642805672522, 0.6435103342443346, 0.5329795659848772]\n",
    "CA_ss = np.array(CA_ss)\n",
    "\n",
    "T_ss = [440, 442.537980203289, 445.24937842606676, 448.1391353316486, 451.20586746040226, 454.43809815470087, 457.80935816302986, 461.2725883629541, 464.75519617827314, 468.1574151982801, 471.3575957995257]\n",
    "T_ss = np.array(T_ss)"
   ]
  },
  {
   "cell_type": "code",
   "execution_count": 17,
   "id": "53a2881c",
   "metadata": {},
   "outputs": [
    {
     "name": "stdout",
     "output_type": "stream",
     "text": [
      "1 out of 20\n",
      "2 out of 20\n",
      "3 out of 20\n",
      "4 out of 20\n",
      "5 out of 20\n",
      "6 out of 20\n",
      "7 out of 20\n",
      "8 out of 20\n",
      "9 out of 20\n",
      "10 out of 20\n",
      "11 out of 20\n",
      "12 out of 20\n",
      "13 out of 20\n",
      "14 out of 20\n",
      "15 out of 20\n",
      "16 out of 20\n",
      "17 out of 20\n",
      "18 out of 20\n",
      "19 out of 20\n",
      "20 out of 20\n"
     ]
    }
   ],
   "source": [
    "# get X and y data for the model\n",
    "\n",
    "CA_physics_output = list()\n",
    "T_physics_output = list()\n",
    "CA_physics_input = list()\n",
    "T_physics_input = list()\n",
    "Tc_physics_input = list()\n",
    "\n",
    "\n",
    "for num_id, u2 in enumerate(u2_physics_list):\n",
    "    print(f\"{num_id + 1} out of {u2_physics_list.shape[0]}\")    #just to count and keep track\n",
    "    Tc = u2 + Tc_s\n",
    "        \n",
    "    for C_A_initial, T_initial in x_physics_original:\n",
    "        Tc_physics_input.append(u2)\n",
    "        CA_physics_input.append(C_A_initial)\n",
    "        T_physics_input.append(T_initial)\n",
    "            \n",
    "        N = 11     # number of points to discretize the reactor length\n",
    "        z = np.linspace(0, length, N) # discretized length elements   \n",
    "        \n",
    "        # Here, we initilise with the stead state values to validate our simulation model\n",
    "        init_C = CA_ss\n",
    "        init_T = T_ss\n",
    "        \n",
    "        \n",
    "        # PFR simulation for a certain initial condition that is not at steady state\n",
    "        \n",
    "        #init_C = np.zeros(N)    # Concentration in reactor at t = 0\n",
    "        #init_C[0] = C_A_initial          # concentration at entrance   \n",
    "        #init_T = np.zeros(N)    # T in reactor at t = 0\n",
    "        #for i in range(len(init_T)):\n",
    "        #    if i == 0:\n",
    "        #        init_T[i] = T_initial \n",
    "        #    else:\n",
    "        #        init_T[i] = 293   # at room temperature and scaled with Steady State value\n",
    "            \n",
    "        C_A_list = [init_C] \n",
    "        T_list = [init_T]            \n",
    "                                \n",
    "        for _ in range(int(t_final / t_step)):\n",
    "            \n",
    "            CA_next, T_next = PFR_simulation_Euler(u, delH_term, k_0, C_p, rho_L, E_by_R, Tc, U, At, A, t_final, t_step, init_C, init_T)\n",
    "            C_A_list.append(CA_next)\n",
    "            T_list.append(T_next)\n",
    "            init_C = CA_next\n",
    "            init_T = T_next\n",
    "             \n",
    "        CA_physics_output.append(C_A_list)\n",
    "        T_physics_output.append(T_list)"
   ]
  },
  {
   "cell_type": "markdown",
   "id": "f7ada0a9",
   "metadata": {},
   "source": [
    "# Generating Plots"
   ]
  },
  {
   "cell_type": "code",
   "execution_count": 19,
   "id": "8931642a",
   "metadata": {},
   "outputs": [
    {
     "name": "stdout",
     "output_type": "stream",
     "text": [
      "[1.6, 1.5111947036559625, 1.417387640197116, 1.3184219134355777, 1.2143091606184162, 1.105331317367263, 0.9921731706476451, 0.8760742913774546, 0.7589642805672522, 0.6435103342443346, 0.5329795659848772]\n",
      "[1.6        1.51063123 1.41675589 1.31777987 1.2136868  1.10477064\n",
      " 0.9917336  0.87583266 0.75900778 0.64391858 0.53379592]\n",
      "[1.6        1.51009632 1.41604792 1.3170383  1.21295565 1.10409221\n",
      " 0.9911659  0.87545097 0.75889826 0.64416149 0.53443863]\n",
      "[1.6        1.50959728 1.41528531 1.31620178 1.21211583 1.10329579\n",
      " 0.99047025 0.87493006 0.75863739 0.64424154 0.53491062]\n",
      "[1.6        1.509138   1.41448874 1.31527869 1.21116874 1.10238131\n",
      " 0.98964676 0.87427066 0.75822666 0.64416103 0.53521472]\n",
      "[1.6        1.5087199  1.41367685 1.31428047 1.21011755 1.10134915\n",
      " 0.98869554 0.87347338 0.75766747 0.64392214 0.53535363]\n"
     ]
    },
    {
     "data": {
      "text/plain": [
       "Text(0.5, 1.0, 'concentration versus length over time')"
      ]
     },
     "execution_count": 19,
     "metadata": {},
     "output_type": "execute_result"
    },
    {
     "data": {
      "image/png": "[encoded data removed]",
      "text/plain": [
       "<Figure size 432x288 with 1 Axes>"
      ]
     },
     "metadata": {
      "needs_background": "light"
     },
     "output_type": "display_data"
    }
   ],
   "source": [
    "## Concentration profile along the length of reactor over time\n",
    "\n",
    "import matplotlib.pyplot as plt\n",
    "count=0\n",
    "CA0=[]\n",
    "CA1=[]\n",
    "CA2=[]\n",
    "CA3=[]\n",
    "CA4=[]\n",
    "CA5=[]\n",
    "\n",
    "for i in CA_physics_output[0]:\n",
    "    print(i)\n",
    "    for j in i:\n",
    "        #print(j)\n",
    "        if count==0:\n",
    "            CA0.append(j)\n",
    "        if count==1:\n",
    "            CA1.append(j)\n",
    "        if count==2:\n",
    "            CA2.append(j)\n",
    "        if count==3:\n",
    "            CA3.append(j)\n",
    "        if count==4:\n",
    "            CA4.append(j)\n",
    "        if count==5:\n",
    "            CA5.append(j)\n",
    "    count=count+1\n",
    "    \n",
    "    \n",
    "    \n",
    "    \n",
    "N = 11     # number of points to discretize the reactor volume on\n",
    "z = np.linspace(0, length, N) # discretized volume elements\n",
    "#plt.plot(z, CA0)\n",
    "plt.plot(z, CA1)\n",
    "plt.plot(z, CA2)\n",
    "plt.plot(z, CA3)\n",
    "plt.plot(z, CA4)\n",
    "plt.plot(z, CA5)\n",
    "\n",
    "plt.xlabel(\"length\")\n",
    "plt.ylabel(\"concentration\")\n",
    "plt.title(\"concentration versus length over time\")"
   ]
  },
  {
   "cell_type": "code",
   "execution_count": 20,
   "id": "2a875a7b",
   "metadata": {},
   "outputs": [
    {
     "data": {
      "text/plain": [
       "Text(0.5, 1.0, 'concentration versus length over time')"
      ]
     },
     "execution_count": 20,
     "metadata": {},
     "output_type": "execute_result"
    },
    {
     "data": {
      "image/png": "[encoded data removed]",
      "text/plain": [
       "<Figure size 432x288 with 1 Axes>"
      ]
     },
     "metadata": {
      "needs_background": "light"
     },
     "output_type": "display_data"
    }
   ],
   "source": [
    "## Plot comparing the steady state and PFR simulation profiles for concentration\n",
    "\n",
    "CA_ss = [1.6, 1.5111947036559625, 1.417387640197116, 1.3184219134355777, 1.2143091606184162, 1.105331317367263, 0.9921731706476451, 0.8760742913774546, 0.7589642805672522, 0.6435103342443346, 0.5329795659848772]\n",
    "\n",
    "N = 11     # number of points to discretize the reactor volume on\n",
    "z = np.linspace(0, length, N) # discretized volume elements\n",
    "plt.plot(z, CA5, label='conc profile')\n",
    "\n",
    "    \n",
    "N = 11     # number of points to discretize the reactor volume on\n",
    "z = np.linspace(0, length, N) # discretized volume elements\n",
    "plt.plot(z, CA_ss, label= 'SS')\n",
    "\n",
    "plt.legend()\n",
    "\n",
    "plt.xlabel(\"length\")\n",
    "plt.ylabel(\"concentration\")\n",
    "plt.title(\"concentration versus length over time\")"
   ]
  },
  {
   "cell_type": "code",
   "execution_count": 21,
   "id": "d6dc3bbf",
   "metadata": {},
   "outputs": [
    {
     "name": "stdout",
     "output_type": "stream",
     "text": [
      "[440.         442.5379802  445.24937843 448.13913533 451.20586746\n",
      " 454.43809815 457.80935816 461.27258836 464.75519618 468.1574152\n",
      " 471.3575958 ]\n",
      "[440.         442.65560287 445.37718936 448.26769298 451.33359605\n",
      " 454.5634154  457.93005658 461.3858214  464.85774522 468.24636191\n",
      " 471.43139222]\n",
      "[440.         442.75425938 445.50488873 448.39957315 451.46526241\n",
      " 454.69302627 458.05543917 461.50418678 464.96591365 468.34139095\n",
      " 471.51158331]\n",
      "[440.         442.83699201 445.62918344 448.53392555 451.60075752\n",
      " 454.82692458 458.18549338 461.62764739 465.07963326 468.4424033\n",
      " 471.59805232]\n",
      "[440.         442.90635697 445.74783782 448.66950824 451.73979818\n",
      " 454.96507154 458.32020554 461.75617029 465.19884142 468.5493059\n",
      " 471.69068691]\n",
      "[440.         442.96450206 445.85942057 448.80492722 451.88190157\n",
      " 455.10736599 458.45955245 461.88972506 465.32348064 468.66201137\n",
      " 471.78937919]\n"
     ]
    },
    {
     "data": {
      "text/plain": [
       "Text(0.5, 1.0, 'Temperature versus length over time')"
      ]
     },
     "execution_count": 21,
     "metadata": {},
     "output_type": "execute_result"
    },
    {
     "data": {
      "image/png": "[encoded data removed]",
      "text/plain": [
       "<Figure size 432x288 with 1 Axes>"
      ]
     },
     "metadata": {
      "needs_background": "light"
     },
     "output_type": "display_data"
    }
   ],
   "source": [
    "## Temperature profile along the length of reactor over time\n",
    "\n",
    "count=0\n",
    "TA0=[]\n",
    "TA1=[]\n",
    "TA2=[]\n",
    "TA3=[]\n",
    "TA4=[]\n",
    "TA5=[]\n",
    "\n",
    "for i in T_physics_output[0]:\n",
    "    print(i)\n",
    "    for j in i:\n",
    "        #print(j)\n",
    "        if count==0:\n",
    "            TA0.append(j)\n",
    "        if count==1:\n",
    "            TA1.append(j)\n",
    "        if count==2:\n",
    "            TA2.append(j)\n",
    "        if count==3:\n",
    "            TA3.append(j)\n",
    "        if count==4:\n",
    "            TA4.append(j)\n",
    "        if count==5:\n",
    "            TA5.append(j)\n",
    "    count=count+1\n",
    "    \n",
    "    \n",
    "    \n",
    "    \n",
    "N = 11     # number of points to discretize the reactor volume on\n",
    "z = np.linspace(0, length, N) # discretized volume elements\n",
    "#plt.plot(z, CA0)\n",
    "plt.plot(z, TA1)\n",
    "plt.plot(z, TA2)\n",
    "plt.plot(z, TA3)\n",
    "plt.plot(z, TA4)\n",
    "plt.plot(z, TA5)\n",
    "\n",
    "plt.xlabel(\"length\")\n",
    "plt.ylabel(\"Temperature\")\n",
    "plt.title(\"Temperature versus length over time\")"
   ]
  },
  {
   "cell_type": "code",
   "execution_count": 22,
   "id": "2e66916e",
   "metadata": {},
   "outputs": [
    {
     "data": {
      "text/plain": [
       "Text(0.5, 1.0, 'temp versus length over time')"
      ]
     },
     "execution_count": 22,
     "metadata": {},
     "output_type": "execute_result"
    },
    {
     "data": {
      "image/png": "[encoded data removed]",
      "text/plain": [
       "<Figure size 432x288 with 1 Axes>"
      ]
     },
     "metadata": {
      "needs_background": "light"
     },
     "output_type": "display_data"
    }
   ],
   "source": [
    "## Plot comparing the steady state and PFR simulation profiles for temperature\n",
    "\n",
    "T_ss=[440, 442.537980203289, 445.24937842606676, 448.1391353316486, 451.20586746040226, 454.43809815470087, 457.80935816302986, 461.2725883629541, 464.75519617827314, 468.1574151982801, 471.3575957995257]\n",
    "N = 11     # number of points to discretize the reactor volume on\n",
    "z = np.linspace(0, length, N) # discretized volume elements\n",
    "plt.plot(z, TA5, label='temp profile')\n",
    "\n",
    "    \n",
    "N = 11     # number of points to discretize the reactor volume on\n",
    "z = np.linspace(0, length, N) # discretized volume elements\n",
    "plt.plot(z, T_ss, label= 'SS')\n",
    "\n",
    "plt.legend()\n",
    "\n",
    "plt.xlabel(\"length\")\n",
    "plt.ylabel(\"temp\")\n",
    "plt.title(\"temp versus length over time\")"
   ]
  },
  {
   "cell_type": "code",
   "execution_count": null,
   "id": "8101234f",
   "metadata": {},
   "outputs": [],
   "source": []
  }
 ],
 "metadata": {
  "kernelspec": {
   "display_name": "Python 3 (ipykernel)",
   "language": "python",
   "name": "python3"
  },
  "language_info": {
   "codemirror_mode": {
    "name": "ipython",
    "version": 3
   },
   "file_extension": ".py",
   "mimetype": "text/x-python",
   "name": "python",
   "nbconvert_exporter": "python",
   "pygments_lexer": "ipython3",
   "version": "3.10.2"
  }
 },
 "nbformat": 4,
 "nbformat_minor": 5
}
